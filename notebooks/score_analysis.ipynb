{
 "cells": [
  {
   "cell_type": "code",
   "execution_count": null,
   "metadata": {
    "collapsed": true,
    "pycharm": {
     "name": "#%%\n"
    }
   },
   "outputs": [],
   "source": [
    "# import libraries\n"
   ]
  },
  {
   "cell_type": "code",
   "execution_count": 4,
   "outputs": [],
   "source": [
    "def get_labels_and_scores(refs, scores):\n",
    "    # Read the ground truth labels into a dictionary\n",
    "    reference_labels = {}\n",
    "    categories = ['n', 'p']\n",
    "    data = open(refs).readlines()\n",
    "    for line in data:\n",
    "        key, val = line.strip().split()\n",
    "        reference_labels[key] = categories.index(val)\n",
    "    # Read the system scores into a dictionary\n",
    "    sys_scores = {}\n",
    "    data = open(scores).readlines()\n",
    "    for line in data:\n",
    "        key, val = line.strip().split()\n",
    "        sys_scores[key] = float(val)\n",
    "    del data\n",
    "    # Ensure all files in the reference have system scores and vice-versa\n",
    "    if len(sys_scores) != len(reference_labels):\n",
    "        raise ValueError(\"Expected the score file to have scores for all files in reference and no duplicates/extra entries\")\n",
    "    # %%\n",
    "    y_true, y_score = [], []\n",
    "    for key in reference_labels.keys():\n",
    "        y_true.append(reference_labels[key])\n",
    "        y_score.append(sys_scores[key])\n",
    "    return y_score, y_true, reference_labels, sys_scores"
   ],
   "metadata": {
    "collapsed": false,
    "pycharm": {
     "name": "#%%\n"
    }
   }
  },
  {
   "cell_type": "code",
   "execution_count": 10,
   "outputs": [],
   "source": [
    "reference_labels = '/home/jmramirez/Documentos/COPERIA/codes-in-tool-release/classifier_BLSTM_model/data/val'\n",
    "sys_scores = '/home/jmramirez/Documentos/COPERIA/models/coswara_model_by_tasks/results_lr/cough-heavy/val_scores.txt'\n",
    "y_score, y_true, reference_labels, sys_scores = get_labels_and_scores(reference_labels, sys_scores)"
   ],
   "metadata": {
    "collapsed": false,
    "pycharm": {
     "name": "#%%\n"
    }
   }
  },
  {
   "cell_type": "code",
   "execution_count": 16,
   "outputs": [
    {
     "data": {
      "text/plain": "(array([ 4., 10.,  4., 10.,  7.,  6.,  3.,  5.,  6., 14., 20., 14., 24.,\n        13., 13., 15.,  7.,  1.,  1.,  2.]),\n array([0.06162348, 0.09794325, 0.13426302, 0.17058279, 0.20690257,\n        0.24322234, 0.27954211, 0.31586188, 0.35218165, 0.38850142,\n        0.42482119, 0.46114096, 0.49746073, 0.53378051, 0.57010028,\n        0.60642005, 0.64273982, 0.67905959, 0.71537936, 0.75169913,\n        0.7880189 ]),\n <BarContainer object of 20 artists>)"
     },
     "execution_count": 16,
     "metadata": {},
     "output_type": "execute_result"
    },
    {
     "data": {
      "text/plain": "<Figure size 720x576 with 1 Axes>",
      "image/png": "[encoded data removed]"
     },
     "metadata": {},
     "output_type": "display_data"
    }
   ],
   "source": [
    "# Plot the scores for the positive class\n",
    "import matplotlib.pyplot as plt\n",
    "import numpy as np\n",
    "import seaborn as sns\n",
    "sns.set_style('whitegrid')\n",
    "sns.set_context('poster')\n",
    "plt.figure(figsize=(10, 8))\n",
    "plt.hist(np.array(y_score)[np.array(y_true) == 1], bins=20, alpha=0.5, label='Positive')\n",
    "plt.hist(np.array(y_score)[np.array(y_true) == 0], bins=20, alpha=0.5, label='Negative')"
   ],
   "metadata": {
    "collapsed": false,
    "pycharm": {
     "name": "#%%\n"
    }
   }
  },
  {
   "cell_type": "code",
   "execution_count": null,
   "outputs": [],
   "source": [],
   "metadata": {
    "collapsed": false,
    "pycharm": {
     "name": "#%%\n"
    }
   }
  }
 ],
 "metadata": {
  "kernelspec": {
   "display_name": "Python 3",
   "language": "python",
   "name": "python3"
  },
  "language_info": {
   "codemirror_mode": {
    "name": "ipython",
    "version": 2
   },
   "file_extension": ".py",
   "mimetype": "text/x-python",
   "name": "python",
   "nbconvert_exporter": "python",
   "pygments_lexer": "ipython2",
   "version": "2.7.6"
  }
 },
 "nbformat": 4,
 "nbformat_minor": 0
}