{
 "cells": [
  {
   "cell_type": "code",
   "execution_count": 1,
   "outputs": [],
   "source": [
    "# import libraries\n",
    "from sklearn.datasets import make_classification\n",
    "from sklearn.linear_model import LogisticRegression\n",
    "from sklearn.model_selection import train_test_split\n",
    "from sklearn.metrics import roc_curve\n",
    "from sklearn.metrics import roc_auc_score\n",
    "from matplotlib import pyplot"
   ],
   "metadata": {
    "collapsed": false,
    "pycharm": {
     "name": "#%%\n"
    }
   }
  },
  {
   "cell_type": "code",
   "execution_count": 2,
   "outputs": [
    {
     "name": "stdout",
     "output_type": "stream",
     "text": [
      "Training data exapmle: [-0.55101241 -0.71631908  0.17541549  0.88382863  1.75099507  0.08757814\n",
      " -0.62203328  0.0172082  -0.03740678  0.12122995  1.07912923  1.26385501\n",
      "  0.53917476 -0.7937163   0.43606836 -1.86225954  0.04361309 -0.02444602\n",
      " -0.48038249 -0.05948312]\n",
      "Training label example : 0\n",
      "\n",
      "Test data example: [ 1.84222699 -0.46434485 -0.05381296  0.28736078  0.25046871  1.21414676\n",
      "  0.13803022  1.40237629 -2.04988642  0.38786048 -1.99021805 -1.01418545\n",
      "  2.43581563 -0.82162712 -1.09731828 -1.24915719 -0.08896656  0.80643863\n",
      "  0.40912571 -0.19642545]\n",
      "Test label example: 1\n"
     ]
    }
   ],
   "source": [
    "# generate 2 class dataset\n",
    "X, y = make_classification(n_samples=1000, n_classes=2, random_state=1)\n",
    "# split into train/test sets\n",
    "trainX, testX, trainy, testy = train_test_split(X, y, test_size=0.5, random_state=2)\n",
    "#Show subsets\n",
    "print(f'Training data exapmle: {trainX[0]}')\n",
    "print(f'Training label example : {trainy[0]}\\n')\n",
    "\n",
    "print(f'Test data example: {testX[0]}')\n",
    "print(f'Test label example: {testy[0]}')"
   ],
   "metadata": {
    "collapsed": false,
    "pycharm": {
     "name": "#%%\n"
    }
   }
  },
  {
   "cell_type": "code",
   "execution_count": 3,
   "outputs": [
    {
     "data": {
      "text/plain": "LogisticRegression()"
     },
     "execution_count": 3,
     "metadata": {},
     "output_type": "execute_result"
    }
   ],
   "source": [
    "# fit a model\n",
    "model = LogisticRegression(solver='lbfgs')\n",
    "model.fit(trainX, trainy)"
   ],
   "metadata": {
    "collapsed": false,
    "pycharm": {
     "name": "#%%\n"
    }
   }
  },
  {
   "cell_type": "code",
   "execution_count": 4,
   "outputs": [
    {
     "name": "stdout",
     "output_type": "stream",
     "text": [
      "No Skill probabilities: 0\n",
      "Logistic probabilities: [0.00402732 0.99597268]\n"
     ]
    }
   ],
   "source": [
    "# generate a no skill prediction (majority class)\n",
    "ns_probs = [0 for _ in range(len(testy))]\n",
    "print(f'No Skill probabilities: {ns_probs[0]}')\n",
    "# predict probabilities\n",
    "lr_probs = model.predict_proba(testX)\n",
    "print(f'Logistic probabilities: {lr_probs[0]}')\n",
    "# keep probabilities for the positive outcome only\n",
    "lr_probs = lr_probs[:, 1]"
   ],
   "metadata": {
    "collapsed": false,
    "pycharm": {
     "name": "#%%\n"
    }
   }
  },
  {
   "cell_type": "code",
   "execution_count": 12,
   "outputs": [
    {
     "name": "stdout",
     "output_type": "stream",
     "text": [
      "['p', 'n', 'n', 'p', 'p', 'n']\n",
      "[0.2354492826083683, 0.2354492826083683, 0.2354492826083683, 0.05786493846348354, 0.05786493846348354, 0.05786493846348354]\n"
     ]
    }
   ],
   "source": [
    "# read the data from the reference file\n",
    "with open('/home/jmramirez/Documentos/COPERIA/infer_pipeline/data/reference', 'r') as f:\n",
    "    data = f.readlines()\n",
    "# read labels\n",
    "labels = [line.strip().split(' ')[1] for line in data]\n",
    "print(labels)\n",
    "\n",
    "with open('/home/jmramirez/Documentos/COPERIA/infer_pipeline/results/wav_test_scores.txt', 'r') as f:\n",
    "    data = f.readlines()\n",
    "# read scores\n",
    "scores = [float(line.strip().split(' ')[1]) for line in data]\n",
    "print(scores)"
   ],
   "metadata": {
    "collapsed": false,
    "pycharm": {
     "name": "#%%\n"
    }
   }
  },
  {
   "cell_type": "code",
   "execution_count": 20,
   "outputs": [
    {
     "name": "stdout",
     "output_type": "stream",
     "text": [
      "Logistic: ROC AUC=0.333\n"
     ]
    }
   ],
   "source": [
    "# calculate scores\n",
    "test_auc = roc_auc_score(labels, scores)\n",
    "# summarize scores\n",
    "print(f'Logistic: ROC AUC={test_auc:.3f}')"
   ],
   "metadata": {
    "collapsed": false,
    "pycharm": {
     "name": "#%%\n"
    }
   }
  },
  {
   "cell_type": "code",
   "execution_count": 23,
   "outputs": [
    {
     "data": {
      "text/plain": "<Figure size 432x288 with 1 Axes>",
      "image/png": "[encoded data removed]"
     },
     "metadata": {
      "needs_background": "light"
     },
     "output_type": "display_data"
    }
   ],
   "source": [
    "# calculate roc curves\n",
    "lr_fpr, lr_tpr, _ = roc_curve(labels, scores, pos_label='p')\n",
    "# plot the roc curve for the model\n",
    "pyplot.plot(lr_fpr, lr_tpr, marker='.', label='Logistic')\n",
    "# axis labels\n",
    "pyplot.xlabel('False Positive Rate')\n",
    "pyplot.ylabel('True Positive Rate')\n",
    "# show the legend\n",
    "pyplot.legend()\n",
    "# show the plot\n",
    "pyplot.show()"
   ],
   "metadata": {
    "collapsed": false,
    "pycharm": {
     "name": "#%%\n"
    }
   }
  },
  {
   "cell_type": "code",
   "execution_count": 24,
   "outputs": [
    {
     "name": "stdout",
     "output_type": "stream",
     "text": [
      "Specificity: 0.000\n",
      "Sensitivity: 0.333\n"
     ]
    }
   ],
   "source": [
    "# calculate the specificity\n",
    "specificity = lr_tpr[0]\n",
    "sensitivity = lr_tpr[1]\n",
    "print(f'Specificity: {specificity:.3f}')\n",
    "print(f'Sensitivity: {sensitivity:.3f}')"
   ],
   "metadata": {
    "collapsed": false,
    "pycharm": {
     "name": "#%%\n"
    }
   }
  },
  {
   "cell_type": "code",
   "execution_count": null,
   "outputs": [],
   "source": [],
   "metadata": {
    "collapsed": false,
    "pycharm": {
     "name": "#%%\n"
    }
   }
  }
 ],
 "metadata": {
  "kernelspec": {
   "display_name": "Python 3",
   "language": "python",
   "name": "python3"
  },
  "language_info": {
   "codemirror_mode": {
    "name": "ipython",
    "version": 2
   },
   "file_extension": ".py",
   "mimetype": "text/x-python",
   "name": "python",
   "nbconvert_exporter": "python",
   "pygments_lexer": "ipython2",
   "version": "2.7.6"
  }
 },
 "nbformat": 4,
 "nbformat_minor": 0
}